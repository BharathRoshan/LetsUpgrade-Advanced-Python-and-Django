{
 "cells": [
  {
   "cell_type": "markdown",
   "metadata": {},
   "source": [
    "# Question 1"
   ]
  },
  {
   "cell_type": "code",
   "execution_count": 2,
   "metadata": {},
   "outputs": [
    {
     "name": "stdout",
     "output_type": "stream",
     "text": [
      "(1597485020.0, 1597504820)\n"
     ]
    }
   ],
   "source": [
    "import time\n",
    "import calendar\n",
    "t1=\"15-08-2020 15:20:20\"\n",
    "def ET(t1):\n",
    "    t9=time.strptime(t1,\"%d-%m-%Y %H:%M:%S\")\n",
    "    t3=time.mktime(t9)\n",
    "    t4=calendar.timegm(t9)\n",
    "    return t3,t4\n",
    "\n",
    "print(ET(t1))"
   ]
  },
  {
   "cell_type": "markdown",
   "metadata": {},
   "source": []
  }
 ],
 "metadata": {
  "kernelspec": {
   "display_name": "Python 3",
   "language": "python",
   "name": "python3"
  },
  "language_info": {
   "codemirror_mode": {
    "name": "ipython",
    "version": 3
   },
   "file_extension": ".py",
   "mimetype": "text/x-python",
   "name": "python",
   "nbconvert_exporter": "python",
   "pygments_lexer": "ipython3",
   "version": "3.7.6"
  }
 },
 "nbformat": 4,
 "nbformat_minor": 4
}

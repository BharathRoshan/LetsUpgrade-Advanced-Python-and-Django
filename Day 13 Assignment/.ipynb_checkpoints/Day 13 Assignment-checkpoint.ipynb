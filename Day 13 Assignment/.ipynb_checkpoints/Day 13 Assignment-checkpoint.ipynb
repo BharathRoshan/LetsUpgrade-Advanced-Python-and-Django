{
 "cells": [
  {
   "cell_type": "markdown",
   "metadata": {
    "colab_type": "text",
    "id": "view-in-github"
   },
   "source": [
    "<a href=\"https://colab.research.google.com/github/Akshatpattiwar512/LetsUpgrade-Advanced-python-and-Django/blob/main/Day_13_Assignment.ipynb\" target=\"_parent\"><img src=\"https://colab.research.google.com/assets/colab-badge.svg\" alt=\"Open In Colab\"/></a>"
   ]
  },
  {
   "cell_type": "code",
   "execution_count": null,
   "metadata": {
    "id": "bUytu3bDNjn-"
   },
   "outputs": [],
   "source": [
    "                                          ##Q1\n",
    "##Remove the hardcoded part from the code with the help of configparser\n",
    "\n",
    "import os\n",
    "from configparser import ConfigParser\n",
    "config=ConfigParser()\n",
    "config.read(\"D://Py Ex/Advance-py//ex_config.ini\")\n",
    "path=config.get(\"Exten\", \"path\")\n",
    "old_text=config.get(\"Exten\",\"OE\")\n",
    "New_text=config.get(\"Exten\",\"NE\")\n",
    "\n",
    "os.chdir(path)\n",
    "os.getcwd()\n",
    "\n",
    "for file in os.listdir():\n",
    "  if file.endswith(old_text):\n",
    "    first_name=file.rsplit(\".\",1)[0]\n",
    "    new_name=first_name+\".\"+New_text\n",
    "    print(new_name)\n",
    "    os.rename(file,new_name)\n",
    "  \n",
    "\n",
    "\n",
    "\n",
    "                                         "
   ]
  },
  {
   "cell_type": "code",
   "execution_count": null,
   "metadata": {
    "id": "Hg6M8ARmilrb"
   },
   "outputs": [],
   "source": [
    "##Q2\n",
    "##The question has been asked in an interview\n",
    "##Please write the code in such a way so that it could give all path of a #file (same name ) which is present\n",
    "##in multiple locations.\n",
    "\n",
    "import os\n",
    "\n",
    "resp =os.walk(\"C:\\\\company\\\\names\")\n",
    "d1= {}\n",
    "for r,d,f in resp:\n",
    "  for file in f:\n",
    "    d1.setdefault(file,[]).append(r)\n",
    "print(d1)\n",
    "\n",
    "file_name = input(\"Enter the file name \")\n",
    "for k,v in d1.items():\n",
    "  if file_name.lower() in k.lower() :\n",
    "    print (k,\":\", v)\n",
    "    for find_file in v:\n",
    "      print(find_file)\n"
   ]
  }
 ],
 "metadata": {
  "colab": {
   "authorship_tag": "ABX9TyMXrx/fsPGbodBvEGf2jR2P",
   "collapsed_sections": [],
   "include_colab_link": true,
   "name": "Day-13 Assignment",
   "provenance": []
  },
  "kernelspec": {
   "display_name": "Python 3",
   "language": "python",
   "name": "python3"
  },
  "language_info": {
   "codemirror_mode": {
    "name": "ipython",
    "version": 3
   },
   "file_extension": ".py",
   "mimetype": "text/x-python",
   "name": "python",
   "nbconvert_exporter": "python",
   "pygments_lexer": "ipython3",
   "version": "3.7.6"
  }
 },
 "nbformat": 4,
 "nbformat_minor": 1
}

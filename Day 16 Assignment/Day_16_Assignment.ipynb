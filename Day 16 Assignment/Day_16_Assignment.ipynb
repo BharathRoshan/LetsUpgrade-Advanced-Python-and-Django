{
 "cells": [
  {
   "cell_type": "code",
   "execution_count": 1,
   "metadata": {
    "colab": {
     "base_uri": "https://localhost:8080/",
     "height": 170
    },
    "id": "0wP9eMkltdXu",
    "outputId": "26fc708a-603c-489e-a23c-f67b946903e5"
   },
   "outputs": [
    {
     "name": "stdout",
     "output_type": "stream",
     "text": [
      "10.50.120.7\n",
      "10.47.8.4\n",
      "11.5.4.3\n",
      "172.16.55.1\n",
      "172.16.254.3\n",
      "172.55.54.7\n",
      "0.0.0.0\n",
      "127.0.0.0\n",
      "169.254.0.0\n"
     ]
    }
   ],
   "source": [
    "import requests\n",
    "import re\n",
    "url=\"https://study-ccna.com/classes-of-ip-addresses/\"\n",
    "a=requests.get(url)\n",
    "data_ip=a.text\n",
    "ip=r\"[0-9]+\\.[0-9]+\\.[0-9]+\\.[0-9]\"\n",
    "list_ip=re.findall(ip,data_ip)\n",
    "for each in list_ip:\n",
    "  print(each)"
   ]
  },
  {
   "cell_type": "code",
   "execution_count": null,
   "metadata": {},
   "outputs": [],
   "source": []
  }
 ],
 "metadata": {
  "colab": {
   "authorship_tag": "ABX9TyOXZdh7Ghqg3M9RkTQcVWKB",
   "include_colab_link": true,
   "name": "Day-16 Assignment",
   "provenance": []
  },
  "kernelspec": {
   "display_name": "Python 3",
   "language": "python",
   "name": "python3"
  },
  "language_info": {
   "codemirror_mode": {
    "name": "ipython",
    "version": 3
   },
   "file_extension": ".py",
   "mimetype": "text/x-python",
   "name": "python",
   "nbconvert_exporter": "python",
   "pygments_lexer": "ipython3",
   "version": "3.7.6"
  }
 },
 "nbformat": 4,
 "nbformat_minor": 1
}

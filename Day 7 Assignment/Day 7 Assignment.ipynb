{
 "cells": [
  {
   "cell_type": "markdown",
   "metadata": {},
   "source": [
    "# Question 1"
   ]
  },
  {
   "cell_type": "code",
   "execution_count": 5,
   "metadata": {},
   "outputs": [
    {
     "name": "stdout",
     "output_type": "stream",
     "text": [
      "[5, 10, 15, 20, 25, 30, 35, 40, 45, 50, 60]\n"
     ]
    }
   ],
   "source": [
    "lst1 = [10,20,30,40,50] \n",
    "lst2 = [5,15,25,35,45,60] \n",
    "    \n",
    "lst3 = [] \n",
    "i, j = 0, 0\n",
    "  \n",
    "while i < len(lst1) and j < len(lst2): \n",
    "    if lst1[i] < lst2[j]: \n",
    "      lst3.append(lst1[i]) \n",
    "      i += 1\n",
    "  \n",
    "    else: \n",
    "      lst3.append(lst2[j]) \n",
    "      j += 1\n",
    "  \n",
    "lst3 = lst3 + lst1[i:] +lst2[j:] \n",
    "  \n",
    "print(lst3)"
   ]
  },
  {
   "cell_type": "code",
   "execution_count": null,
   "metadata": {},
   "outputs": [],
   "source": []
  }
 ],
 "metadata": {
  "kernelspec": {
   "display_name": "Python 3",
   "language": "python",
   "name": "python3"
  },
  "language_info": {
   "codemirror_mode": {
    "name": "ipython",
    "version": 3
   },
   "file_extension": ".py",
   "mimetype": "text/x-python",
   "name": "python",
   "nbconvert_exporter": "python",
   "pygments_lexer": "ipython3",
   "version": "3.7.6"
  }
 },
 "nbformat": 4,
 "nbformat_minor": 4
}

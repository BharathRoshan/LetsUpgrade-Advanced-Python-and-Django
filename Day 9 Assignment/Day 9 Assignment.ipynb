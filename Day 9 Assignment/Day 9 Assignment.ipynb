{
 "cells": [
  {
   "cell_type": "markdown",
   "metadata": {},
   "source": [
    "# Question 1"
   ]
  },
  {
   "cell_type": "code",
   "execution_count": 5,
   "metadata": {},
   "outputs": [
    {
     "name": "stdout",
     "output_type": "stream",
     "text": [
      " Password is -  ?e82AJ#A8XQ1\n"
     ]
    }
   ],
   "source": [
    "import random\n",
    "import string\n",
    "\n",
    "def get_random_alphanumeric_string(letters_count, digits_count,punctuation_count):\n",
    "    sample_str = ''.join((random.choice(string.ascii_letters) for i in range(letters_count)))\n",
    "    sample_str += ''.join((random.choice(string.digits) for i in range(digits_count)))\n",
    "    sample_str += ''.join((random.choice(string.punctuation) for i in range(punctuation_count)))\n",
    "    sample_list = list(sample_str)\n",
    "    random.shuffle(sample_list)\n",
    "    final_string = ''.join(sample_list)\n",
    "    return final_string\n",
    "print(\" Password is - \", get_random_alphanumeric_string(6, 4,2))"
   ]
  },
  {
   "cell_type": "markdown",
   "metadata": {},
   "source": [
    "-----------"
   ]
  }
 ],
 "metadata": {
  "kernelspec": {
   "display_name": "Python 3",
   "language": "python",
   "name": "python3"
  },
  "language_info": {
   "codemirror_mode": {
    "name": "ipython",
    "version": 3
   },
   "file_extension": ".py",
   "mimetype": "text/x-python",
   "name": "python",
   "nbconvert_exporter": "python",
   "pygments_lexer": "ipython3",
   "version": "3.7.6"
  }
 },
 "nbformat": 4,
 "nbformat_minor": 4
}

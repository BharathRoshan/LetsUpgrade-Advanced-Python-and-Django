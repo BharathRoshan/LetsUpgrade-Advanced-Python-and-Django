{
 "cells": [
  {
   "cell_type": "markdown",
   "metadata": {},
   "source": [
    "# Question 1"
   ]
  },
  {
   "cell_type": "code",
   "execution_count": 3,
   "metadata": {},
   "outputs": [
    {
     "name": "stdout",
     "output_type": "stream",
     "text": [
      "['192.168.10.4', '192.168.10.9', '192.168.10.11', '192.168.10.35']\n"
     ]
    }
   ],
   "source": [
    "lst1 = [\"192.168.10.9\", \"192.168.10.4\", \"192.168.10.11\", \"192.168.10.35\"]\n",
    "def fun1(x):\n",
    "    l=x.split('.')\n",
    "    return int(l[3])\n",
    "\n",
    "lst1.sort(key=fun1)\n",
    "print(lst1)"
   ]
  },
  {
   "cell_type": "markdown",
   "metadata": {},
   "source": [
    "-------"
   ]
  },
  {
   "cell_type": "markdown",
   "metadata": {},
   "source": [
    "# Question 2"
   ]
  },
  {
   "cell_type": "code",
   "execution_count": 4,
   "metadata": {},
   "outputs": [
    {
     "name": "stdout",
     "output_type": "stream",
     "text": [
      "[1, 1, 1, 1, 1, 1, 2, 2, 2, 3, 3, 3, 21, 24, 45, 0, 0, 0, 0, 0, 0]\n"
     ]
    }
   ],
   "source": [
    "lst2 = [1,2,3,0,2,3,0,1,24,0,1,3,1,0,1,21,0,1,2,0,45]\n",
    "def sorting(lst, n): \n",
    "    count = 0 \n",
    "    for i in range(n): \n",
    "        if lst[i] != 0: \n",
    "            lst[count] = lst[i] \n",
    "            count+=1\n",
    "    while count < n: \n",
    "        lst[count] = 0\n",
    "        count += 1 \n",
    "\n",
    "lst2.sort()\n",
    "n = len(lst2) \n",
    "sorting(lst2, n) \n",
    "print(lst2)"
   ]
  },
  {
   "cell_type": "code",
   "execution_count": 10,
   "metadata": {},
   "outputs": [
    {
     "name": "stdout",
     "output_type": "stream",
     "text": [
      "Enter the number to find occurance1\n",
      "1 has occured 6 times \n"
     ]
    }
   ],
   "source": [
    "occur = int(input(\"Enter the number to find occurance\"))\n",
    "no = lst2.count(occur)\n",
    "print(f\"{occur} has occured {no} times \")"
   ]
  },
  {
   "cell_type": "markdown",
   "metadata": {},
   "source": [
    "------------"
   ]
  },
  {
   "cell_type": "markdown",
   "metadata": {},
   "source": [
    "# Question 3"
   ]
  },
  {
   "cell_type": "code",
   "execution_count": 8,
   "metadata": {},
   "outputs": [
    {
     "name": "stdout",
     "output_type": "stream",
     "text": [
      "[(9, 1), (9, 5), (10, 4), (10, 4), (90, 3)]\n"
     ]
    }
   ],
   "source": [
    "lst3 = [(10,4),(90,3),(9,1),(10,4),(9,5)]\n",
    "def func2(x):\n",
    "    x[0]+x[1]\n",
    "    return x\n",
    "lst3.sort(key=func2)\n",
    "print(lst3)"
   ]
  },
  {
   "cell_type": "markdown",
   "metadata": {},
   "source": [
    "---------"
   ]
  }
 ],
 "metadata": {
  "kernelspec": {
   "display_name": "Python 3",
   "language": "python",
   "name": "python3"
  },
  "language_info": {
   "codemirror_mode": {
    "name": "ipython",
    "version": 3
   },
   "file_extension": ".py",
   "mimetype": "text/x-python",
   "name": "python",
   "nbconvert_exporter": "python",
   "pygments_lexer": "ipython3",
   "version": "3.7.6"
  }
 },
 "nbformat": 4,
 "nbformat_minor": 4
}
